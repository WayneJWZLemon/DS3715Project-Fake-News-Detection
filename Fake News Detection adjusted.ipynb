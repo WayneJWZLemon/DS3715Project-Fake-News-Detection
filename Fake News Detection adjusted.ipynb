{
 "cells": [
  {
   "cell_type": "code",
   "execution_count": 42,
   "metadata": {},
   "outputs": [],
   "source": [
    "import pandas as pd\n",
    "import numpy as np\n",
    "from sklearn.model_selection import train_test_split\n",
    "from sklearn.feature_extraction.text import TfidfVectorizer\n",
    "from sklearn.linear_model import PassiveAggressiveClassifier\n",
    "from sklearn.metrics import accuracy_score, confusion_matrix\n",
    "import itertools\n",
    "from sklearn.naive_bayes import MultinomialNB\n",
    "from sklearn.feature_extraction.text import CountVectorizer"
   ]
  },
  {
   "cell_type": "code",
   "execution_count": 43,
   "metadata": {},
   "outputs": [],
   "source": [
    "df=pd.read_csv(\"news.csv\") # sample dataset from the website, later on we use the webscraped data\n",
    "#print(df.info)\n",
    "X_train,X_test,Y_train,Y_test=train_test_split(df['text'], df.label, test_size=0.2, random_state=12)"
   ]
  },
  {
   "cell_type": "code",
   "execution_count": 50,
   "metadata": {},
   "outputs": [
    {
     "name": "stdout",
     "output_type": "stream",
     "text": [
      "The accuracy using passiveaggressiveclassifier and tfidf vectorizer is: 0.9037095501183899\n",
      "The accuracy using passiveaggressiveclassifier and countvector is 0.9013417521704814\n",
      "The accuracy using naive bayes model is and tfidfvector: 0.8516179952644041\n",
      "The accuracy using naive bayes model and countvector is: 0.8918705603788477\n"
     ]
    }
   ],
   "source": [
    "#create a tfidf vectorizer\n",
    "tfidfvector=TfidfVectorizer(stop_words='english', max_df=0.8) #if frequency is greater than 0.8 toss out the terms\n",
    "tfidf_train=tfidfvector.fit_transform(X_train) \n",
    "tfidf_test=tfidfvector.transform(X_test)\n",
    "\n",
    "#create a countvectorizer\n",
    "countvector=CountVectorizer(stop_words='english')\n",
    "countvector_train=countvector.fit_transform(X_train)\n",
    "countvector_test=countvector.transform(X_test)\n",
    "\n",
    "#create a passiveaggressive classifier\n",
    "\n",
    "\n",
    "PassiveAgg=PassiveAggressiveClassifier()\n",
    "PassiveAgg.fit(tfidf_train, Y_train)#for tfidfvectorier\n",
    "PassiveAgg.fit(countvector_train, Y_train)#for countvectorizer\n",
    "\n",
    "\n",
    "PassiveAgg_pred=PassiveAgg.predict(tfidf_test)\n",
    "print(\"The accuracy using passiveaggressiveclassifier and tfidf vectorizer is:\", accuracy_score(Y_test,PassiveAgg_pred))\n",
    "\n",
    "PassiveAgg_pred=PassiveAgg.predict(countvector_test)\n",
    "print(\"The accuracy using passiveaggressiveclassifier and countvector is\",accuracy_score(Y_test,PassiveAgg_pred))\n",
    "\n",
    "#use the naive bayes model to detect accuracy\n",
    "naivebayes= MultinomialNB()\n",
    "naivebayes.fit(tfidf_train,Y_train)\n",
    "naivepred=naivebayes.predict(tfidf_test)\n",
    "naivescore=accuracy_score(Y_test,naivepred)\n",
    "print(\"The accuracy using naive bayes model is and tfidfvector:\", naivescore)\n",
    "\n",
    "naivebayes.fit(countvector_train,Y_train)\n",
    "naivepred=naivebayes.predict(countvector_test)\n",
    "naivescore=accuracy_score(Y_test,naivepred)\n",
    "print(\"The accuracy using naive bayes model and countvector is:\", naivescore)\n",
    "\n",
    "#create a confusion matrix to look for false negatives, false positives, etc\n",
    "#print(\"confusion matrix for passive aggresive model\")\n",
    "#confusion_matrix(Y_test,PassiveAgg_pred, labels=['FAKE','REAL'])\n",
    "#confusion_matrix(Y_test,naivepred, labels=['FAKE','REAL'])"
   ]
  },
  {
   "cell_type": "code",
   "execution_count": null,
   "metadata": {},
   "outputs": [],
   "source": []
  }
 ],
 "metadata": {
  "kernelspec": {
   "display_name": "Python 3",
   "language": "python",
   "name": "python3"
  },
  "language_info": {
   "codemirror_mode": {
    "name": "ipython",
    "version": 3
   },
   "file_extension": ".py",
   "mimetype": "text/x-python",
   "name": "python",
   "nbconvert_exporter": "python",
   "pygments_lexer": "ipython3",
   "version": "3.8.5"
  }
 },
 "nbformat": 4,
 "nbformat_minor": 4
}

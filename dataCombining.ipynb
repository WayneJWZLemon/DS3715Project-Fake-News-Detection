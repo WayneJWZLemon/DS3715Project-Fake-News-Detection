{
 "metadata": {
  "language_info": {
   "codemirror_mode": {
    "name": "ipython",
    "version": 3
   },
   "file_extension": ".py",
   "mimetype": "text/x-python",
   "name": "python",
   "nbconvert_exporter": "python",
   "pygments_lexer": "ipython3",
   "version": "3.9.1-final"
  },
  "orig_nbformat": 2,
  "kernelspec": {
   "name": "python391jvsc74a57bd07812ea015bdcee6f23a998adcdd2ef97c151c0c241b7b7070987d9313e41299d",
   "display_name": "Python 3.9.1 64-bit"
  }
 },
 "nbformat": 4,
 "nbformat_minor": 2,
 "cells": [
  {
   "source": [
    "## Purpose\n",
    "We gathered different datasets across the web, some contain features that we don't intend to use and some miss the target label. So, we are going to format them accordingly and then combine all of them together to use for train."
   ],
   "cell_type": "markdown",
   "metadata": {}
  },
  {
   "cell_type": "code",
   "execution_count": 34,
   "metadata": {},
   "outputs": [
    {
     "output_type": "stream",
     "name": "stdout",
     "text": [
      "<class 'pandas.core.frame.DataFrame'>\nInt64Index: 1064 entries, 1 to 1263\nData columns (total 3 columns):\n #   Column  Non-Null Count  Dtype \n---  ------  --------------  ----- \n 0   title   1064 non-null   object\n 1   text    1064 non-null   object\n 2   label   1064 non-null   object\ndtypes: object(3)\nmemory usage: 33.2+ KB\nNone\n"
     ]
    }
   ],
   "source": [
    "import pandas as pd\n",
    "from sklearn.utils import shuffle\n",
    "\n",
    "df1 = pd.read_csv('extractedTrue.csv')\n",
    "df1 = df1.drop(['date'], axis=1)\n",
    "df1 = df1.dropna(how='any')\n",
    "df1_label = [\"REAL\"]*df1.shape[0]\n",
    "df1['label'] = df1_label\n",
    "print(df1.info())\n",
    "\n"
   ]
  },
  {
   "cell_type": "code",
   "execution_count": 35,
   "metadata": {},
   "outputs": [
    {
     "output_type": "stream",
     "name": "stdout",
     "text": [
      "<class 'pandas.core.frame.DataFrame'>\nRangeIndex: 23481 entries, 0 to 23480\nData columns (total 3 columns):\n #   Column  Non-Null Count  Dtype \n---  ------  --------------  ----- \n 0   title   23481 non-null  object\n 1   text    23481 non-null  object\n 2   label   23481 non-null  object\ndtypes: object(3)\nmemory usage: 550.5+ KB\nNone\n<class 'pandas.core.frame.DataFrame'>\nRangeIndex: 21417 entries, 0 to 21416\nData columns (total 3 columns):\n #   Column  Non-Null Count  Dtype \n---  ------  --------------  ----- \n 0   title   21417 non-null  object\n 1   text    21417 non-null  object\n 2   label   21417 non-null  object\ndtypes: object(3)\nmemory usage: 502.1+ KB\nNone\n"
     ]
    }
   ],
   "source": [
    "df2 = pd.read_csv('Kaggle-Clement-Bisaillon-Fake.csv')\n",
    "df3 = pd.read_csv('Kaggle-Clement-Bisaillon-True.csv')\n",
    "\n",
    "df2 = df2.drop(['subject', 'date'], axis=1)\n",
    "df3 = df3.drop(['subject', 'date'], axis=1)\n",
    "df2_label = [\"FAKE\"]*df2.shape[0]\n",
    "df3_label = [\"REAL\"]*df3.shape[0]\n",
    "df2['label'] = df2_label\n",
    "df3['label'] = df3_label\n",
    "\n",
    "print(df2.info())\n",
    "print(df3.info())\n"
   ]
  },
  {
   "cell_type": "code",
   "execution_count": 36,
   "metadata": {},
   "outputs": [
    {
     "output_type": "stream",
     "name": "stdout",
     "text": [
      "<class 'pandas.core.frame.DataFrame'>\nInt64Index: 155 entries, 1 to 246\nData columns (total 3 columns):\n #   Column  Non-Null Count  Dtype \n---  ------  --------------  ----- \n 0   title   155 non-null    object\n 1   text    155 non-null    object\n 2   label   155 non-null    object\ndtypes: object(3)\nmemory usage: 4.8+ KB\nNone\n"
     ]
    }
   ],
   "source": [
    "df4 = pd.read_csv('FakeNews-GitHub-several27.csv')\n",
    "df4 = df4.drop(['Unnamed: 0', 'id', 'domain', 'url', 'scraped_at', \\\n",
    "                'inserted_at', 'updated_at', 'authors', 'keywords', \\\n",
    "                'meta_keywords', 'meta_description', 'tags', 'summary'], axis=1)\n",
    "df4 = df4[df4['type']=='fake']\n",
    "df4 = df4.rename(columns={'type':'label', 'content':'text'})\n",
    "df4 = df4[['title', 'text', 'label']]\n",
    "print(df4.info())\n"
   ]
  },
  {
   "cell_type": "code",
   "execution_count": 39,
   "metadata": {},
   "outputs": [
    {
     "output_type": "stream",
     "name": "stdout",
     "text": [
      "<class 'pandas.core.frame.DataFrame'>\nRangeIndex: 6335 entries, 0 to 6334\nData columns (total 3 columns):\n #   Column  Non-Null Count  Dtype \n---  ------  --------------  ----- \n 0   title   6335 non-null   object\n 1   text    6335 non-null   object\n 2   label   6335 non-null   object\ndtypes: object(3)\nmemory usage: 148.6+ KB\nNone\n<class 'pandas.core.frame.DataFrame'>\nInt64Index: 52452 entries, 18879 to 12702\nData columns (total 3 columns):\n #   Column  Non-Null Count  Dtype \n---  ------  --------------  ----- \n 0   title   52452 non-null  object\n 1   text    52452 non-null  object\n 2   label   52452 non-null  object\ndtypes: object(3)\nmemory usage: 1.6+ MB\nNone\n                                                   title  ... label\n18879  TOUGH TEXAS MAYOR Who Fought Back Against Impl...  ...  FAKE\n6064    Fox News Host Makes Herself A Total Laughings...  ...  FAKE\n4198   Factbox: Trump on Twitter (April 18) - Obama a...  ...  REAL\n20657  AMERICA IS HAMMERING TARGET: #BoycottTarget Pe...  ...  FAKE\n3733   Republicans worry Trump scandals may doom legi...  ...  REAL\n\n[5 rows x 3 columns]\n"
     ]
    }
   ],
   "source": [
    "df5 = pd.read_csv('news.csv')\n",
    "df5 = df5.drop(['Unnamed: 0'], axis=1)\n",
    "print(df5.info())\n",
    "\n",
    "# Combining\n",
    "combined = pd.concat([df1, df2, df3, df4, df5], axis=0)\n",
    "combined = shuffle(combined)\n",
    "print(combined.info())\n",
    "print(combined.head())\n",
    "\n",
    "combined1 = combined.iloc[:26000, :] \n",
    "combined2 = combined.iloc[26000:, :]\n",
    "\n",
    "combined1.to_csv('combinedDataset1.csv', index=False)\n",
    "combined2.to_csv('combinedDataset2.csv', index=False)\n"
   ]
  },
  {
   "cell_type": "code",
   "execution_count": null,
   "metadata": {},
   "outputs": [],
   "source": []
  }
 ]
}
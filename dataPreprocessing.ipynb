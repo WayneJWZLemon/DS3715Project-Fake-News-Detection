{
 "metadata": {
  "language_info": {
   "codemirror_mode": {
    "name": "ipython",
    "version": 3
   },
   "file_extension": ".py",
   "mimetype": "text/x-python",
   "name": "python",
   "nbconvert_exporter": "python",
   "pygments_lexer": "ipython3",
   "version": 3
  },
  "orig_nbformat": 2
 },
 "nbformat": 4,
 "nbformat_minor": 2,
 "cells": [
  {
   "cell_type": "code",
   "execution_count": null,
   "metadata": {},
   "outputs": [],
   "source": [
    "import pandas as pd\n",
    "\n",
    "pd1 = pd.read_csv('extracted.csv')\n",
    "print(\"Basic info about the fake news dataset from Clement Bisaillon\")\n",
    "print(pd1.isnull().sum())\n",
    "print(pd1)"
   ]
  }
 ]
}
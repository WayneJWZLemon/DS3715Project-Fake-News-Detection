{
 "metadata": {
  "language_info": {
   "codemirror_mode": {
    "name": "ipython",
    "version": 3
   },
   "file_extension": ".py",
   "mimetype": "text/x-python",
   "name": "python",
   "nbconvert_exporter": "python",
   "pygments_lexer": "ipython3",
   "version": "3.9.1-final"
  },
  "orig_nbformat": 2,
  "kernelspec": {
   "name": "python391jvsc74a57bd07812ea015bdcee6f23a998adcdd2ef97c151c0c241b7b7070987d9313e41299d",
   "display_name": "Python 3.9.1 64-bit"
  }
 },
 "nbformat": 4,
 "nbformat_minor": 2,
 "cells": [
  {
   "cell_type": "code",
   "execution_count": 1,
   "metadata": {},
   "outputs": [
    {
     "output_type": "stream",
     "name": "stdout",
     "text": [
      "Basic info about the fake news dataset from Clement Bisaillon\ntitle     33\ntext     200\ndate     536\ndtype: int64\n                                                  title  \\\n0                      Latest Headlines on CNN Business   \n1                                     Travel News - CNN   \n2     Raya, 'The Equalizer' and Wanda Maximoff are s...   \n3     Regé-Jean Page will not appear in 'Bridgerton'...   \n4     'The Serpent' sinks its teeth in with a true-c...   \n...                                                 ...   \n1259  Rep. John Conyers Is Resigning Effective Today...   \n1260  Here's How Breitbart And Milo Smuggled White N...   \n1261  Parents Told Police Their Daughter Is Being He...   \n1262  Let Trump Handle Brexit: An Explosive Leaked R...   \n1263  Raquel Dodge recebeu R$ 11.285 em diárias para...   \n\n                                                   text                 date  \n0                                                   NaN                  NaN  \n1     How the letter X is changing the game for trav...                  NaN  \n2     A version of this story appeared in CNN's Pop ...  2021-04-01 00:00:00  \n3     (CNN) That scream you may have heard are the f...  2021-04-02 00:00:00  \n4     (CNN) Even taking acknowledged creative libert...  2021-04-02 00:00:00  \n...                                                 ...                  ...  \n1259  Michigan Rep. John Conyers, a Democrat and the...                  NaN  \n1260  In August, after a white nationalist rally in ...                  NaN  \n1261  As the R&B legend tours the country this summe...                  NaN  \n1262  Speaking about Brexit, Johnson gave a remarkab...                  NaN  \n1263  BuzzFeed Bring Me\\n\\nObsessed with travel? Dis...                  NaN  \n\n[1264 rows x 3 columns]\n"
     ]
    }
   ],
   "source": [
    "import pandas as pd\n",
    "\n",
    "pd1 = pd.read_csv('extracted.csv')\n",
    "print(\"Basic info about the fake news dataset from Clement Bisaillon\")\n",
    "print(pd1.isnull().sum())\n",
    "print(pd1)"
   ]
  },
  {
   "cell_type": "code",
   "execution_count": null,
   "metadata": {},
   "outputs": [],
   "source": []
  }
 ]
}